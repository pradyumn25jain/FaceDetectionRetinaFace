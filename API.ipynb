{
 "cells": [
  {
   "cell_type": "code",
   "execution_count": null,
   "metadata": {},
   "outputs": [],
   "source": [
    "import re\n",
    "import numpy as np\n",
    "import tritongrpcclient\n",
    "from PIL import Image\n",
    "import time\n",
    "from joblib import Parallel, delayed\n",
    "from tqdm.notebook import tqdm\n",
    "import os"
   ]
  },
  {
   "cell_type": "code",
   "execution_count": null,
   "metadata": {},
   "outputs": [],
   "source": [
    "def Relcrop(image, b,factors=(0.35,0.2,0.15,0.15)):\n",
    "    landmarks_top = b[1]\n",
    "    landmarks_bottom = b[3]\n",
    "    landmarks_left = b[0]\n",
    "    landmarks_right = b[2]\n",
    "    top = int(landmarks_top - factors[0] * (landmarks_bottom - landmarks_top))\n",
    "    bottom = int(landmarks_bottom + factors[1] * (landmarks_bottom - landmarks_top))\n",
    "    left = int(landmarks_left - factors[2] * (landmarks_right - landmarks_left))\n",
    "    right = int(landmarks_right + factors[3] * (landmarks_right - landmarks_left))\n",
    "    \n",
    "    if bottom - top > right - left:\n",
    "        left -= ((bottom - top) - (right - left)) // 2\n",
    "        right = left + (bottom - top)\n",
    "    else:\n",
    "        top -= ((right - left) - (bottom - top)) // 2\n",
    "        bottom = top + (right - left)\n",
    "    image_crop = np.ones(\n",
    "        (bottom - top + 1, right - left + 1, 3), np.uint8) * 255\n",
    "    h, w = image.shape[:2]\n",
    "    left_white = max(0, -left)\n",
    "    left = max(0, left)\n",
    "    right = min(right, w-1)\n",
    "    right_white = left_white + (right-left)\n",
    "    top_white = max(0, -top)\n",
    "    top = max(0, top)\n",
    "    bottom = min(bottom, h-1)\n",
    "    bottom_white = top_white + (bottom - top)\n",
    "\n",
    "    image_crop[top_white:bottom_white+1, left_white:right_white +\n",
    "                1] = image[top:bottom+1, left:right+1].copy()\n",
    "    return image_crop"
   ]
  },
  {
   "cell_type": "code",
   "execution_count": null,
   "metadata": {},
   "outputs": [],
   "source": [
    "triton_client = tritongrpcclient.InferenceServerClient(url=\"216.48.178.109:8061\", verbose=False)"
   ]
  },
  {
   "cell_type": "code",
   "execution_count": null,
   "metadata": {},
   "outputs": [],
   "source": [
    "def tritonJob(inputPath,outputPath):\n",
    "    triton_client = tritongrpcclient.InferenceServerClient(url=\"216.48.178.109:8061\", verbose=False)\n",
    "    inputs = []\n",
    "    outputs = []\n",
    "    input0_name = \"INPUT__0\"\n",
    "    output0_name = \"OUTPUT__0\"\n",
    "    img = Image.open(inputPath).convert('RGB')\n",
    "    width, height = img.size\n",
    "    hpercent  = (500 / float(img.size[1]))\n",
    "    hsize = int((float(img.size[0]) * float(hpercent)))\n",
    "    img = img.resize((hsize, 500), Image.ANTIALIAS)\n",
    "\n",
    "\n",
    "\n",
    "    try:\n",
    "        image_data = np.array(img).astype(\"uint8\")\n",
    "        image_data = np.expand_dims(image_data, axis = 0)\n",
    "        inputs.append(tritongrpcclient.InferInput(input0_name, image_data.shape, \"UINT8\"))\n",
    "        outputs.append(tritongrpcclient.InferRequestedOutput(output0_name))\n",
    "\n",
    "        inputs[0].set_data_from_numpy(image_data)\n",
    "        response  = triton_client.infer(model_name=\"retinaface_ensemble\",\n",
    "                                        inputs=inputs,\n",
    "                                        outputs=outputs)\n",
    "\n",
    "        result = response.get_response()\n",
    "        bboxes = response.as_numpy(output0_name)\n",
    "        bboxes = bboxes[0]\n",
    "        # face_crop = Relcrop(np.array(img),bboxes[0],(0,0,0,0))\n",
    "        face_crop = Relcrop(np.array(img),bboxes[0])\n",
    "        Image.fromarray(face_crop).resize((256,256)).save(outputPath)\n",
    "    except Exception as e:\n",
    "        print(inputPath)\n",
    "        error_message = re.findall('TritonModelException: ([a-zA-Z0-9 ]+)\\n', str(e))\n",
    "        print(error_message)\n",
    "        # exit()\n",
    "        return\n",
    "\n"
   ]
  },
  {
   "cell_type": "code",
   "execution_count": null,
   "metadata": {},
   "outputs": [],
   "source": [
    "inputP = \"./data/input/segTest\"\n",
    "outputN = inputP.split(\"/\")[-1]\n",
    "outputP = os.path.join(\"./data/output\",outputN+\"-output\")\n",
    "if not os.path.exists(outputP):\n",
    "    os.makedirs(outputP)"
   ]
  },
  {
   "cell_type": "code",
   "execution_count": null,
   "metadata": {},
   "outputs": [],
   "source": [
    "Parallel(n_jobs=50)(delayed(tritonJob)(os.path.join(inputP,imgN),os.path.join(outputP,imgN)) for imgN in tqdm(os.listdir(inputP)))"
   ]
  },
  {
   "cell_type": "code",
   "execution_count": null,
   "metadata": {},
   "outputs": [],
   "source": [
    "# for imgN in os.listdir(inputDir):\n",
    "#     inputPath = os.path.join(inputDir,imgN)\n",
    "#     outputPath = os.path.join(outputDir,imgN)\n",
    "#     tritonJob(inputPath,outputPath)\n",
    "    \n"
   ]
  }
 ],
 "metadata": {
  "interpreter": {
   "hash": "8d785af3c1f2c1c1dbca3d0dde6cdee8cc024896faf09790e17e378b79857d6f"
  },
  "kernelspec": {
   "display_name": "Python 3.7.13 ('triton')",
   "language": "python",
   "name": "python3"
  },
  "language_info": {
   "codemirror_mode": {
    "name": "ipython",
    "version": 3
   },
   "file_extension": ".py",
   "mimetype": "text/x-python",
   "name": "python",
   "nbconvert_exporter": "python",
   "pygments_lexer": "ipython3",
   "version": "3.7.13"
  },
  "orig_nbformat": 4
 },
 "nbformat": 4,
 "nbformat_minor": 2
}
